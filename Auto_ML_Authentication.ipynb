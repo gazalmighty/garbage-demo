{
 "cells": [
  {
   "cell_type": "code",
   "execution_count": 1,
   "metadata": {},
   "outputs": [
    {
     "name": "stderr",
     "output_type": "stream",
     "text": [
      "Updated property [core/project].\n"
     ]
    }
   ],
   "source": [
    "#find more in the below document :D\n",
    "#https://github.com/GoogleCloudPlatform/python-docs-samples/blob/master/tables/automl/notebooks/census_income_prediction/getting_started_notebook.ipynb\n",
    "PROJECT_ID = \"waste-demo\" # @param {type:\"string\"}\n",
    "COMPUTE_REGION = \"us-central1\" # Currently only supported region.\n",
    "! gcloud config set project $PROJECT_ID"
   ]
  },
  {
   "cell_type": "code",
   "execution_count": 2,
   "metadata": {},
   "outputs": [
    {
     "name": "stdout",
     "output_type": "stream",
     "text": [
      "env: GOOGLE_APPLICATION_CREDENTIALS=C:/Users/Goura/waste-demo-bcca752a56fa.json\n"
     ]
    }
   ],
   "source": [
    "%env GOOGLE_APPLICATION_CREDENTIALS C:/Users/Goura/waste-demo-bcca752a56fa.json"
   ]
  },
  {
   "cell_type": "code",
   "execution_count": 3,
   "metadata": {},
   "outputs": [
    {
     "name": "stdout",
     "output_type": "stream",
     "text": [
      "Requirement already satisfied: google-cloud-automl in d:\\3_installer_files\\anaconda\\lib\\site-packages (0.8.0)\n",
      "Requirement already satisfied: google-api-core[grpc]<2.0.0dev,>=1.14.0 in d:\\3_installer_files\\anaconda\\lib\\site-packages (from google-cloud-automl) (1.14.3)\n",
      "Requirement already satisfied: pytz in d:\\3_installer_files\\anaconda\\lib\\site-packages (from google-api-core[grpc]<2.0.0dev,>=1.14.0->google-cloud-automl) (2019.1)\n",
      "Requirement already satisfied: setuptools>=34.0.0 in d:\\3_installer_files\\anaconda\\lib\\site-packages (from google-api-core[grpc]<2.0.0dev,>=1.14.0->google-cloud-automl) (41.0.1)\n",
      "Requirement already satisfied: google-auth<2.0dev,>=0.4.0 in d:\\3_installer_files\\anaconda\\lib\\site-packages (from google-api-core[grpc]<2.0.0dev,>=1.14.0->google-cloud-automl) (1.7.1)\n",
      "Requirement already satisfied: six>=1.10.0 in d:\\3_installer_files\\anaconda\\lib\\site-packages (from google-api-core[grpc]<2.0.0dev,>=1.14.0->google-cloud-automl) (1.12.0)\n",
      "Requirement already satisfied: protobuf>=3.4.0 in d:\\3_installer_files\\anaconda\\lib\\site-packages (from google-api-core[grpc]<2.0.0dev,>=1.14.0->google-cloud-automl) (3.10.0)\n",
      "Requirement already satisfied: requests<3.0.0dev,>=2.18.0 in d:\\3_installer_files\\anaconda\\lib\\site-packages (from google-api-core[grpc]<2.0.0dev,>=1.14.0->google-cloud-automl) (2.22.0)\n",
      "Requirement already satisfied: googleapis-common-protos<2.0dev,>=1.6.0 in d:\\3_installer_files\\anaconda\\lib\\site-packages (from google-api-core[grpc]<2.0.0dev,>=1.14.0->google-cloud-automl) (1.6.0)\n",
      "Requirement already satisfied: grpcio<2.0dev,>=1.8.2; extra == \"grpc\" in d:\\3_installer_files\\anaconda\\lib\\site-packages (from google-api-core[grpc]<2.0.0dev,>=1.14.0->google-cloud-automl) (1.25.0)\n",
      "Requirement already satisfied: rsa<4.1,>=3.1.4 in d:\\3_installer_files\\anaconda\\lib\\site-packages (from google-auth<2.0dev,>=0.4.0->google-api-core[grpc]<2.0.0dev,>=1.14.0->google-cloud-automl) (4.0)\n",
      "Requirement already satisfied: pyasn1-modules>=0.2.1 in d:\\3_installer_files\\anaconda\\lib\\site-packages (from google-auth<2.0dev,>=0.4.0->google-api-core[grpc]<2.0.0dev,>=1.14.0->google-cloud-automl) (0.2.7)\n",
      "Requirement already satisfied: cachetools<3.2,>=2.0.0 in d:\\3_installer_files\\anaconda\\lib\\site-packages (from google-auth<2.0dev,>=0.4.0->google-api-core[grpc]<2.0.0dev,>=1.14.0->google-cloud-automl) (3.1.1)\n",
      "Requirement already satisfied: certifi>=2017.4.17 in d:\\3_installer_files\\anaconda\\lib\\site-packages (from requests<3.0.0dev,>=2.18.0->google-api-core[grpc]<2.0.0dev,>=1.14.0->google-cloud-automl) (2019.6.16)\n",
      "Requirement already satisfied: chardet<3.1.0,>=3.0.2 in d:\\3_installer_files\\anaconda\\lib\\site-packages (from requests<3.0.0dev,>=2.18.0->google-api-core[grpc]<2.0.0dev,>=1.14.0->google-cloud-automl) (3.0.4)\n",
      "Requirement already satisfied: idna<2.9,>=2.5 in d:\\3_installer_files\\anaconda\\lib\\site-packages (from requests<3.0.0dev,>=2.18.0->google-api-core[grpc]<2.0.0dev,>=1.14.0->google-cloud-automl) (2.8)\n",
      "Requirement already satisfied: urllib3!=1.25.0,!=1.25.1,<1.26,>=1.21.1 in d:\\3_installer_files\\anaconda\\lib\\site-packages (from requests<3.0.0dev,>=2.18.0->google-api-core[grpc]<2.0.0dev,>=1.14.0->google-cloud-automl) (1.24.2)\n",
      "Requirement already satisfied: pyasn1>=0.1.3 in d:\\3_installer_files\\anaconda\\lib\\site-packages (from rsa<4.1,>=3.1.4->google-auth<2.0dev,>=0.4.0->google-api-core[grpc]<2.0.0dev,>=1.14.0->google-cloud-automl) (0.4.8)\n",
      "Note: you may need to restart the kernel to use updated packages.\n"
     ]
    }
   ],
   "source": [
    "%pip install google-cloud-automl"
   ]
  },
  {
   "cell_type": "code",
   "execution_count": 5,
   "metadata": {},
   "outputs": [],
   "source": [
    "# AutoML library\n",
    "from google.cloud import automl_v1beta1 as automl\n",
    "\n",
    "import google.cloud.automl_v1beta1.proto.data_types_pb2 as data_types\n",
    "import matplotlib.pyplot as plt"
   ]
  },
  {
   "cell_type": "code",
   "execution_count": 7,
   "metadata": {},
   "outputs": [],
   "source": [
    "from google.oauth2 import service_account\n",
    "credentials = service_account.Credentials.from_service_account_file('C:/Users/Goura/waste-demo-bcca752a56fa.json')\n",
    "client = automl.TablesClient(project=PROJECT_ID, region=COMPUTE_REGION, credentials=credentials)"
   ]
  },
  {
   "cell_type": "code",
   "execution_count": 8,
   "metadata": {},
   "outputs": [
    {
     "data": {
      "text/plain": [
       "{'untitled_1573955652433': 'projects/370623785558/locations/us-central1/datasets/ICN6856673258066935808',\n",
       " 'demo_bottle': 'projects/370623785558/locations/us-central1/datasets/ICN9218248312669339648',\n",
       " 'bottleDemo': 'projects/370623785558/locations/us-central1/datasets/ICN6714809869804765184'}"
      ]
     },
     "execution_count": 8,
     "metadata": {},
     "output_type": "execute_result"
    }
   ],
   "source": [
    "# List datasets in Project\n",
    "list_datasets = client.list_datasets()\n",
    "datasets = { dataset.display_name: dataset.name for dataset in list_datasets }\n",
    "datasets"
   ]
  },
  {
   "cell_type": "code",
   "execution_count": 9,
   "metadata": {},
   "outputs": [
    {
     "data": {
      "text/plain": [
       "{'demo_bottle_20191116074914': 'projects/370623785558/locations/us-central1/models/ICN7481732424318058496'}"
      ]
     },
     "execution_count": 9,
     "metadata": {},
     "output_type": "execute_result"
    }
   ],
   "source": [
    "list_models = client.list_models()\n",
    "models = { model.display_name: model.name for model in list_models }\n",
    "models"
   ]
  },
  {
   "cell_type": "code",
   "execution_count": 10,
   "metadata": {},
   "outputs": [
    {
     "data": {
      "text/plain": [
       "name: \"projects/370623785558/locations/us-central1/datasets/TBL5588909962962141184\"\n",
       "display_name: \"census\"\n",
       "create_time {\n",
       "  seconds: 1574090175\n",
       "  nanos: 105651000\n",
       "}\n",
       "etag: \"AB3BwFrRNFvdL_iN5PEjTJe0gi7w0Voiv5UhLsGPOVz-LLgkNN9_uGV4GAz75ZaNq_s=\"\n",
       "tables_dataset_metadata {\n",
       "  stats_update_time {\n",
       "  }\n",
       "}"
      ]
     },
     "execution_count": 10,
     "metadata": {},
     "output_type": "execute_result"
    }
   ],
   "source": [
    "dataset_display_name = 'census' \n",
    "dataset = client.create_dataset(dataset_display_name)\n",
    "dataset"
   ]
  },
  {
   "cell_type": "code",
   "execution_count": 11,
   "metadata": {},
   "outputs": [
    {
     "name": "stderr",
     "output_type": "stream",
     "text": [
      "BucketNotFoundException: 404 gs://waste-demo-codelab-data-storage bucket does not exist.\n",
      "Creating gs://waste-demo-codelab-data-storage/...\n",
      "You are attempting to perform an operation that requires a project id, with none configured. Please re-run gsutil config and make sure to follow the instructions for finding and entering your default project id.\n",
      "BucketNotFoundException: 404 gs://waste-demo-codelab-data-storage bucket does not exist.\n"
     ]
    }
   ],
   "source": [
    "# GCS_STORAGE_BUCKET = 'gs://{}-codelab-data-storage'.format(PROJECT_ID)\n",
    "# GCS_DATASET_URI = '{}/census_income.csv'.format(GCS_STORAGE_BUCKET)\n",
    "# ! gsutil ls $GCS_STORAGE_BUCKET || gsutil mb -l $COMPUTE_REGION $GCS_STORAGE_BUCKET\n",
    "# ! gsutil cp gs://cloud-ml-data-tables/notebooks/census_income.csv $GCS_DATASET_URI"
   ]
  },
  {
   "cell_type": "code",
   "execution_count": 13,
   "metadata": {},
   "outputs": [
    {
     "name": "stdout",
     "output_type": "stream",
     "text": [
      "abcd\n",
      "payload {\n",
      "  annotation_spec_id: \"4398077297429577728\"\n",
      "  classification {\n",
      "    score: 0.9949711561203003\n",
      "  }\n",
      "  display_name: \"park_avenue\"\n",
      "}\n",
      "\n"
     ]
    }
   ],
   "source": [
    "import sys\n",
    "\n",
    "from google.cloud import automl_v1beta1\n",
    "from google.cloud.automl_v1beta1.proto import service_pb2\n",
    "\n",
    "\n",
    "# 'content' is base-64-encoded image data.\n",
    "def get_prediction(content, project_id, model_id):\n",
    "  prediction_client = automl_v1beta1.PredictionServiceClient()\n",
    "\n",
    "  name = 'projects/{}/locations/us-central1/models/{}'.format(project_id, model_id)\n",
    "  payload = {'image': {'image_bytes': content }}\n",
    "  params = {}\n",
    "  request = prediction_client.predict(name, payload, params)\n",
    "  return request  # waits till request is returned\n",
    "\n",
    "if __name__ == '__main__':\n",
    "  file_path = 'D:/1_Python/1_AutoMl/Test/IMG_20191117_053920.jpg' #\n",
    "  project_id = '370623785558'\n",
    "  model_id = 'ICN7481732424318058496'\n",
    "\n",
    "  with open(file_path, 'rb') as ff:\n",
    "    content = ff.read()\n",
    "  print (\"abcd\")\n",
    "  print (get_prediction(content, project_id, model_id))\n",
    "\n"
   ]
  },
  {
   "cell_type": "code",
   "execution_count": null,
   "metadata": {},
   "outputs": [],
   "source": []
  }
 ],
 "metadata": {
  "kernelspec": {
   "display_name": "Python 3",
   "language": "python",
   "name": "python3"
  },
  "language_info": {
   "codemirror_mode": {
    "name": "ipython",
    "version": 3
   },
   "file_extension": ".py",
   "mimetype": "text/x-python",
   "name": "python",
   "nbconvert_exporter": "python",
   "pygments_lexer": "ipython3",
   "version": "3.7.3"
  }
 },
 "nbformat": 4,
 "nbformat_minor": 2
}
